{
 "cells": [
  {
   "cell_type": "code",
   "execution_count": 24,
   "metadata": {},
   "outputs": [],
   "source": [
    "import pathlib\n",
    "\n",
    "from heliostack.image import Image\n",
    "\n",
    "import torch\n",
    "import kornia\n",
    "\n",
    "from astropy.io import fits\n",
    "from astropy.wcs import WCS\n",
    "from astropy.time import Time\n",
    "\n",
    "import pandas as pd\n",
    "\n",
    "\n",
    "import warnings\n",
    "warnings.filterwarnings('ignore')\n",
    "\n",
    "import matplotlib.pyplot as plt\n",
    "%matplotlib inline\n",
    "%config InlineBackend.figure_format = 'retina'\n",
    "\n",
    "from scipy.ndimage import distance_transform_edt, center_of_mass, label, map_coordinates, convolve\n",
    "import numpy as np\n",
    "\n",
    "import sep\n",
    "from sklearn.cluster import DBSCAN\n",
    "\n",
    "device = torch.device('cuda' if torch.cuda.is_available() else 'cpu')\n",
    "dtype = torch.float32\n",
    "\n",
    "def stack(images: list[Image]):\n",
    "    psi = torch.zeros(2500, 5000, device=device, dtype=dtype)\n",
    "    phi = torch.zeros(2500, 5000, device=device, dtype=dtype)\n",
    "\n",
    "    for im in images:\n",
    "        dx, dy = im.image.shape\n",
    "        psi[0:dx, 0:dy] += im.image\n",
    "        phi[0:dx, 0:dy] += im.weight\n",
    "\n",
    "    s = psi / torch.sqrt(phi)\n",
    "    return s"
   ]
  },
  {
   "attachments": {},
   "cell_type": "markdown",
   "metadata": {},
   "source": [
    "### Read in all of the images"
   ]
  },
  {
   "cell_type": "code",
   "execution_count": 2,
   "metadata": {},
   "outputs": [],
   "source": [
    "EDGE_CUT_PIXELS = 250\n",
    "def ingest_image(image_path, weight_path, device, dtype) -> Image:\n",
    "    im = fits.open(image_path)\n",
    "    wt = fits.open(weight_path)\n",
    "\n",
    "    wcs = WCS(im[1].header)\n",
    "    epoch = Time(im[1].header['MJD-OBS'], format='mjd', scale='utc')\n",
    "\n",
    "    image = Image(im[1].data[EDGE_CUT_PIXELS:-EDGE_CUT_PIXELS, EDGE_CUT_PIXELS:-EDGE_CUT_PIXELS], \n",
    "                  wt[1].data[EDGE_CUT_PIXELS:-EDGE_CUT_PIXELS, EDGE_CUT_PIXELS:-EDGE_CUT_PIXELS], \n",
    "                  wcs, \n",
    "                  epoch, \n",
    "                  device=device,\n",
    "                  dtype=dtype)\n",
    "    return image"
   ]
  },
  {
   "cell_type": "code",
   "execution_count": 3,
   "metadata": {},
   "outputs": [],
   "source": [
    "#root = '/nfs/deep/diffim_distant/B1d/20201019/CCD1'\n",
    "root = '/Users/kjnapier/Desktop/research/data/jts/B1a/20201018/CCD5/'\n",
    "\n",
    "image_paths = list(pathlib.Path(root).glob('*.diff.rescale.fits.fz'))\n",
    "weight_paths = list(pathlib.Path(root).glob('*.diff.weight.fits.fz'))\n",
    "assert len(image_paths) == len(weight_paths)\n",
    "\n",
    "# read in the images\n",
    "images = []\n",
    "for i, w in zip(image_paths, weight_paths):\n",
    "    images.append(ingest_image(i, w, device, dtype))"
   ]
  },
  {
   "cell_type": "code",
   "execution_count": 26,
   "metadata": {},
   "outputs": [],
   "source": [
    "def extract(s, threshold=2.0, min_area=3):\n",
    "\n",
    "    ys, xs = torch.where(s > threshold)\n",
    "    points = np.array([xs.cpu().numpy(), ys.cpu().numpy()]).T\n",
    "    clustering = DBSCAN(eps=1, min_samples=min_area, algorithm='ball_tree').fit(points)\n",
    "    keep = clustering.labels_ > 0\n",
    "    unique_labels = set(clustering.labels_[keep])\n",
    "    xs = xs[keep]\n",
    "    ys = ys[keep]\n",
    "    points = points[keep]\n",
    "\n",
    "    x_c = []\n",
    "    y_c = []\n",
    "    snr = []\n",
    "    for k in unique_labels:\n",
    "        class_member_mask = (clustering.labels_[keep] == k)\n",
    "        x, y = np.mean(xs[class_member_mask].tolist()), np.mean(ys[class_member_mask].tolist())\n",
    "        x_c.append(x)\n",
    "        y_c.append(y)\n",
    "\n",
    "    return x_c, y_c"
   ]
  },
  {
   "cell_type": "code",
   "execution_count": 27,
   "metadata": {},
   "outputs": [
    {
     "name": "stdout",
     "output_type": "stream",
     "text": [
      "CPU times: user 670 ms, sys: 54.6 ms, total: 725 ms\n",
      "Wall time: 131 ms\n"
     ]
    }
   ],
   "source": [
    "%%time\n",
    "s = stack(images)"
   ]
  },
  {
   "cell_type": "code",
   "execution_count": 41,
   "metadata": {},
   "outputs": [
    {
     "name": "stdout",
     "output_type": "stream",
     "text": [
      "CPU times: user 38.9 ms, sys: 2.37 ms, total: 41.3 ms\n",
      "Wall time: 9.61 ms\n"
     ]
    }
   ],
   "source": [
    "%%time\n",
    "xs, ys = extract(s, threshold=2, min_area=2)"
   ]
  },
  {
   "cell_type": "code",
   "execution_count": 42,
   "metadata": {},
   "outputs": [
    {
     "name": "stdout",
     "output_type": "stream",
     "text": [
      "CPU times: user 47.9 ms, sys: 1.45 ms, total: 49.4 ms\n",
      "Wall time: 49.1 ms\n"
     ]
    }
   ],
   "source": [
    "%%time\n",
    "sep_sources = pd.DataFrame(sep.extract(np.float32(s.cpu().numpy()), 2, minarea=2, filter_type='conv', deblend_cont=1.0, clean=False))"
   ]
  },
  {
   "cell_type": "code",
   "execution_count": 39,
   "metadata": {},
   "outputs": [
    {
     "data": {
      "image/png": "[encoded data removed]",
      "text/plain": [
       "<Figure size 100x100 with 1 Axes>"
      ]
     },
     "metadata": {
      "image/png": {
       "height": 120,
       "width": 124
      }
     },
     "output_type": "display_data"
    },
    {
     "data": {
      "image/png": "[encoded data removed]",
      "text/plain": [
       "<Figure size 100x100 with 1 Axes>"
      ]
     },
     "metadata": {
      "image/png": {
       "height": 120,
       "width": 124
      }
     },
     "output_type": "display_data"
    }
   ],
   "source": [
    "for x, y in zip(xs, ys):\n",
    "    fig, ax = plt.subplots(figsize=(1, 1))\n",
    "    x = int(x)\n",
    "    y = int(y)\n",
    "    ax.imshow(s[y-25:y+25, x-25:x+25].cpu().numpy(), origin='lower')"
   ]
  },
  {
   "cell_type": "code",
   "execution_count": 40,
   "metadata": {},
   "outputs": [
    {
     "data": {
      "text/plain": [
       "<matplotlib.collections.PathCollection at 0x177c558d0>"
      ]
     },
     "execution_count": 40,
     "metadata": {},
     "output_type": "execute_result"
    },
    {
     "data": {
      "image/png": "[encoded data removed]",
      "text/plain": [
       "<Figure size 1200x600 with 1 Axes>"
      ]
     },
     "metadata": {
      "image/png": {
       "height": 505,
       "width": 986
      }
     },
     "output_type": "display_data"
    }
   ],
   "source": [
    "fig, ax = plt.subplots(figsize=(12, 6))\n",
    "ax.scatter(sep_sources.x, sep_sources.y, s=25, color='black')\n",
    "ax.scatter(xs, ys, s=10, color='red')"
   ]
  },
  {
   "cell_type": "code",
   "execution_count": null,
   "metadata": {},
   "outputs": [],
   "source": []
  },
  {
   "attachments": {},
   "cell_type": "markdown",
   "metadata": {},
   "source": [
    "### Calculate the stack rates"
   ]
  },
  {
   "cell_type": "code",
   "execution_count": 224,
   "metadata": {},
   "outputs": [
    {
     "name": "stdout",
     "output_type": "stream",
     "text": [
      "CPU times: user 150 ms, sys: 8.94 ms, total: 159 ms\n",
      "Wall time: 158 ms\n"
     ]
    }
   ],
   "source": [
    "# use the grid"
   ]
  },
  {
   "attachments": {},
   "cell_type": "markdown",
   "metadata": {},
   "source": [
    "### Stack at each rate, and extract sources"
   ]
  },
  {
   "cell_type": "code",
   "execution_count": 203,
   "metadata": {},
   "outputs": [
    {
     "name": "stdout",
     "output_type": "stream",
     "text": [
      "CPU times: user 2.82 s, sys: 46 ms, total: 2.86 s\n",
      "Wall time: 576 ms\n"
     ]
    }
   ],
   "source": [
    "%%time\n",
    "for _ in range(1):\n",
    "    s = stack(images)\n",
    "    sources = sep.extract(np.float32(s.cpu().numpy()), 2, minarea=2)"
   ]
  },
  {
   "cell_type": "code",
   "execution_count": 206,
   "metadata": {},
   "outputs": [],
   "source": [
    "import pandas as pd"
   ]
  },
  {
   "cell_type": "code",
   "execution_count": 207,
   "metadata": {},
   "outputs": [
    {
     "data": {
      "text/html": [
       "<div>\n",
       "<style scoped>\n",
       "    .dataframe tbody tr th:only-of-type {\n",
       "        vertical-align: middle;\n",
       "    }\n",
       "\n",
       "    .dataframe tbody tr th {\n",
       "        vertical-align: top;\n",
       "    }\n",
       "\n",
       "    .dataframe thead th {\n",
       "        text-align: right;\n",
       "    }\n",
       "</style>\n",
       "<table border=\"1\" class=\"dataframe\">\n",
       "  <thead>\n",
       "    <tr style=\"text-align: right;\">\n",
       "      <th></th>\n",
       "      <th>thresh</th>\n",
       "      <th>npix</th>\n",
       "      <th>tnpix</th>\n",
       "      <th>xmin</th>\n",
       "      <th>xmax</th>\n",
       "      <th>ymin</th>\n",
       "      <th>ymax</th>\n",
       "      <th>x</th>\n",
       "      <th>y</th>\n",
       "      <th>x2</th>\n",
       "      <th>...</th>\n",
       "      <th>cxy</th>\n",
       "      <th>cflux</th>\n",
       "      <th>flux</th>\n",
       "      <th>cpeak</th>\n",
       "      <th>peak</th>\n",
       "      <th>xcpeak</th>\n",
       "      <th>ycpeak</th>\n",
       "      <th>xpeak</th>\n",
       "      <th>ypeak</th>\n",
       "      <th>flag</th>\n",
       "    </tr>\n",
       "  </thead>\n",
       "  <tbody>\n",
       "    <tr>\n",
       "      <th>0</th>\n",
       "      <td>2.0</td>\n",
       "      <td>3</td>\n",
       "      <td>3</td>\n",
       "      <td>557</td>\n",
       "      <td>558</td>\n",
       "      <td>16</td>\n",
       "      <td>17</td>\n",
       "      <td>557.721237</td>\n",
       "      <td>16.706332</td>\n",
       "      <td>0.201054</td>\n",
       "      <td>...</td>\n",
       "      <td>4.677608</td>\n",
       "      <td>9.142162</td>\n",
       "      <td>18.695312</td>\n",
       "      <td>3.908905</td>\n",
       "      <td>12.710938</td>\n",
       "      <td>558</td>\n",
       "      <td>17</td>\n",
       "      <td>558</td>\n",
       "      <td>17</td>\n",
       "      <td>0</td>\n",
       "    </tr>\n",
       "    <tr>\n",
       "      <th>1</th>\n",
       "      <td>2.0</td>\n",
       "      <td>7</td>\n",
       "      <td>3</td>\n",
       "      <td>3060</td>\n",
       "      <td>3062</td>\n",
       "      <td>153</td>\n",
       "      <td>155</td>\n",
       "      <td>3061.374202</td>\n",
       "      <td>153.972228</td>\n",
       "      <td>0.378621</td>\n",
       "      <td>...</td>\n",
       "      <td>0.032778</td>\n",
       "      <td>31.370739</td>\n",
       "      <td>39.508301</td>\n",
       "      <td>7.386112</td>\n",
       "      <td>21.687500</td>\n",
       "      <td>3061</td>\n",
       "      <td>154</td>\n",
       "      <td>3061</td>\n",
       "      <td>154</td>\n",
       "      <td>0</td>\n",
       "    </tr>\n",
       "    <tr>\n",
       "      <th>2</th>\n",
       "      <td>2.0</td>\n",
       "      <td>4</td>\n",
       "      <td>3</td>\n",
       "      <td>1477</td>\n",
       "      <td>1478</td>\n",
       "      <td>391</td>\n",
       "      <td>393</td>\n",
       "      <td>1477.745599</td>\n",
       "      <td>392.000720</td>\n",
       "      <td>0.189681</td>\n",
       "      <td>...</td>\n",
       "      <td>-0.004755</td>\n",
       "      <td>11.018188</td>\n",
       "      <td>19.075195</td>\n",
       "      <td>3.738708</td>\n",
       "      <td>10.367188</td>\n",
       "      <td>1478</td>\n",
       "      <td>392</td>\n",
       "      <td>1478</td>\n",
       "      <td>392</td>\n",
       "      <td>0</td>\n",
       "    </tr>\n",
       "    <tr>\n",
       "      <th>3</th>\n",
       "      <td>2.0</td>\n",
       "      <td>3</td>\n",
       "      <td>2</td>\n",
       "      <td>3542</td>\n",
       "      <td>3543</td>\n",
       "      <td>464</td>\n",
       "      <td>465</td>\n",
       "      <td>3542.761174</td>\n",
       "      <td>464.321604</td>\n",
       "      <td>0.181788</td>\n",
       "      <td>...</td>\n",
       "      <td>-4.549904</td>\n",
       "      <td>9.054855</td>\n",
       "      <td>19.768555</td>\n",
       "      <td>3.980240</td>\n",
       "      <td>13.250000</td>\n",
       "      <td>3543</td>\n",
       "      <td>464</td>\n",
       "      <td>3543</td>\n",
       "      <td>464</td>\n",
       "      <td>0</td>\n",
       "    </tr>\n",
       "    <tr>\n",
       "      <th>4</th>\n",
       "      <td>2.0</td>\n",
       "      <td>2</td>\n",
       "      <td>2</td>\n",
       "      <td>1340</td>\n",
       "      <td>1340</td>\n",
       "      <td>523</td>\n",
       "      <td>524</td>\n",
       "      <td>1340.000000</td>\n",
       "      <td>523.505310</td>\n",
       "      <td>0.083333</td>\n",
       "      <td>...</td>\n",
       "      <td>-0.000000</td>\n",
       "      <td>4.051941</td>\n",
       "      <td>10.113281</td>\n",
       "      <td>2.047485</td>\n",
       "      <td>6.175781</td>\n",
       "      <td>1340</td>\n",
       "      <td>524</td>\n",
       "      <td>1340</td>\n",
       "      <td>523</td>\n",
       "      <td>8</td>\n",
       "    </tr>\n",
       "    <tr>\n",
       "      <th>5</th>\n",
       "      <td>2.0</td>\n",
       "      <td>4</td>\n",
       "      <td>4</td>\n",
       "      <td>461</td>\n",
       "      <td>462</td>\n",
       "      <td>547</td>\n",
       "      <td>548</td>\n",
       "      <td>461.488802</td>\n",
       "      <td>547.514085</td>\n",
       "      <td>0.249875</td>\n",
       "      <td>...</td>\n",
       "      <td>0.011489</td>\n",
       "      <td>9.093761</td>\n",
       "      <td>18.710938</td>\n",
       "      <td>2.393093</td>\n",
       "      <td>5.656250</td>\n",
       "      <td>461</td>\n",
       "      <td>548</td>\n",
       "      <td>461</td>\n",
       "      <td>548</td>\n",
       "      <td>0</td>\n",
       "    </tr>\n",
       "    <tr>\n",
       "      <th>6</th>\n",
       "      <td>2.0</td>\n",
       "      <td>2</td>\n",
       "      <td>2</td>\n",
       "      <td>1400</td>\n",
       "      <td>1401</td>\n",
       "      <td>574</td>\n",
       "      <td>574</td>\n",
       "      <td>1400.469077</td>\n",
       "      <td>574.000000</td>\n",
       "      <td>0.332377</td>\n",
       "      <td>...</td>\n",
       "      <td>-0.000000</td>\n",
       "      <td>4.926517</td>\n",
       "      <td>10.945312</td>\n",
       "      <td>2.615601</td>\n",
       "      <td>6.871094</td>\n",
       "      <td>1400</td>\n",
       "      <td>574</td>\n",
       "      <td>1400</td>\n",
       "      <td>574</td>\n",
       "      <td>8</td>\n",
       "    </tr>\n",
       "    <tr>\n",
       "      <th>7</th>\n",
       "      <td>2.0</td>\n",
       "      <td>4</td>\n",
       "      <td>4</td>\n",
       "      <td>1966</td>\n",
       "      <td>1967</td>\n",
       "      <td>573</td>\n",
       "      <td>574</td>\n",
       "      <td>1966.559358</td>\n",
       "      <td>573.493016</td>\n",
       "      <td>0.246477</td>\n",
       "      <td>...</td>\n",
       "      <td>0.027680</td>\n",
       "      <td>17.393009</td>\n",
       "      <td>31.710938</td>\n",
       "      <td>4.947235</td>\n",
       "      <td>12.351562</td>\n",
       "      <td>1967</td>\n",
       "      <td>573</td>\n",
       "      <td>1967</td>\n",
       "      <td>573</td>\n",
       "      <td>0</td>\n",
       "    </tr>\n",
       "    <tr>\n",
       "      <th>8</th>\n",
       "      <td>2.0</td>\n",
       "      <td>2</td>\n",
       "      <td>2</td>\n",
       "      <td>1599</td>\n",
       "      <td>1599</td>\n",
       "      <td>662</td>\n",
       "      <td>663</td>\n",
       "      <td>1599.000000</td>\n",
       "      <td>662.497415</td>\n",
       "      <td>0.083333</td>\n",
       "      <td>...</td>\n",
       "      <td>-0.000000</td>\n",
       "      <td>6.153000</td>\n",
       "      <td>15.984375</td>\n",
       "      <td>3.092407</td>\n",
       "      <td>8.023438</td>\n",
       "      <td>1599</td>\n",
       "      <td>662</td>\n",
       "      <td>1599</td>\n",
       "      <td>663</td>\n",
       "      <td>8</td>\n",
       "    </tr>\n",
       "    <tr>\n",
       "      <th>9</th>\n",
       "      <td>2.0</td>\n",
       "      <td>8</td>\n",
       "      <td>3</td>\n",
       "      <td>2399</td>\n",
       "      <td>2401</td>\n",
       "      <td>906</td>\n",
       "      <td>908</td>\n",
       "      <td>2399.807997</td>\n",
       "      <td>906.958918</td>\n",
       "      <td>0.470117</td>\n",
       "      <td>...</td>\n",
       "      <td>0.657519</td>\n",
       "      <td>41.651703</td>\n",
       "      <td>48.765762</td>\n",
       "      <td>10.095613</td>\n",
       "      <td>33.656250</td>\n",
       "      <td>2400</td>\n",
       "      <td>907</td>\n",
       "      <td>2400</td>\n",
       "      <td>907</td>\n",
       "      <td>0</td>\n",
       "    </tr>\n",
       "    <tr>\n",
       "      <th>10</th>\n",
       "      <td>2.0</td>\n",
       "      <td>2</td>\n",
       "      <td>2</td>\n",
       "      <td>2625</td>\n",
       "      <td>2626</td>\n",
       "      <td>1020</td>\n",
       "      <td>1020</td>\n",
       "      <td>2625.507513</td>\n",
       "      <td>1020.000000</td>\n",
       "      <td>0.333277</td>\n",
       "      <td>...</td>\n",
       "      <td>-0.000000</td>\n",
       "      <td>6.135880</td>\n",
       "      <td>16.058594</td>\n",
       "      <td>3.114037</td>\n",
       "      <td>8.984375</td>\n",
       "      <td>2626</td>\n",
       "      <td>1020</td>\n",
       "      <td>2626</td>\n",
       "      <td>1020</td>\n",
       "      <td>8</td>\n",
       "    </tr>\n",
       "    <tr>\n",
       "      <th>11</th>\n",
       "      <td>2.0</td>\n",
       "      <td>3</td>\n",
       "      <td>3</td>\n",
       "      <td>1316</td>\n",
       "      <td>1317</td>\n",
       "      <td>1047</td>\n",
       "      <td>1048</td>\n",
       "      <td>1316.595890</td>\n",
       "      <td>1047.218757</td>\n",
       "      <td>0.240805</td>\n",
       "      <td>...</td>\n",
       "      <td>-5.303170</td>\n",
       "      <td>9.387726</td>\n",
       "      <td>22.216797</td>\n",
       "      <td>3.793671</td>\n",
       "      <td>10.679688</td>\n",
       "      <td>1316</td>\n",
       "      <td>1047</td>\n",
       "      <td>1316</td>\n",
       "      <td>1047</td>\n",
       "      <td>0</td>\n",
       "    </tr>\n",
       "    <tr>\n",
       "      <th>12</th>\n",
       "      <td>2.0</td>\n",
       "      <td>2</td>\n",
       "      <td>2</td>\n",
       "      <td>2924</td>\n",
       "      <td>2924</td>\n",
       "      <td>1304</td>\n",
       "      <td>1305</td>\n",
       "      <td>2924.000000</td>\n",
       "      <td>1304.603582</td>\n",
       "      <td>0.083333</td>\n",
       "      <td>...</td>\n",
       "      <td>-0.000000</td>\n",
       "      <td>5.227749</td>\n",
       "      <td>12.060547</td>\n",
       "      <td>3.155373</td>\n",
       "      <td>9.476562</td>\n",
       "      <td>2924</td>\n",
       "      <td>1305</td>\n",
       "      <td>2924</td>\n",
       "      <td>1305</td>\n",
       "      <td>8</td>\n",
       "    </tr>\n",
       "  </tbody>\n",
       "</table>\n",
       "<p>13 rows × 30 columns</p>\n",
       "</div>"
      ],
      "text/plain": [
       "    thresh  npix  tnpix  xmin  xmax  ymin  ymax            x            y  \\\n",
       "0      2.0     3      3   557   558    16    17   557.721237    16.706332   \n",
       "1      2.0     7      3  3060  3062   153   155  3061.374202   153.972228   \n",
       "2      2.0     4      3  1477  1478   391   393  1477.745599   392.000720   \n",
       "3      2.0     3      2  3542  3543   464   465  3542.761174   464.321604   \n",
       "4      2.0     2      2  1340  1340   523   524  1340.000000   523.505310   \n",
       "5      2.0     4      4   461   462   547   548   461.488802   547.514085   \n",
       "6      2.0     2      2  1400  1401   574   574  1400.469077   574.000000   \n",
       "7      2.0     4      4  1966  1967   573   574  1966.559358   573.493016   \n",
       "8      2.0     2      2  1599  1599   662   663  1599.000000   662.497415   \n",
       "9      2.0     8      3  2399  2401   906   908  2399.807997   906.958918   \n",
       "10     2.0     2      2  2625  2626  1020  1020  2625.507513  1020.000000   \n",
       "11     2.0     3      3  1316  1317  1047  1048  1316.595890  1047.218757   \n",
       "12     2.0     2      2  2924  2924  1304  1305  2924.000000  1304.603582   \n",
       "\n",
       "          x2  ...       cxy      cflux       flux      cpeak       peak  \\\n",
       "0   0.201054  ...  4.677608   9.142162  18.695312   3.908905  12.710938   \n",
       "1   0.378621  ...  0.032778  31.370739  39.508301   7.386112  21.687500   \n",
       "2   0.189681  ... -0.004755  11.018188  19.075195   3.738708  10.367188   \n",
       "3   0.181788  ... -4.549904   9.054855  19.768555   3.980240  13.250000   \n",
       "4   0.083333  ... -0.000000   4.051941  10.113281   2.047485   6.175781   \n",
       "5   0.249875  ...  0.011489   9.093761  18.710938   2.393093   5.656250   \n",
       "6   0.332377  ... -0.000000   4.926517  10.945312   2.615601   6.871094   \n",
       "7   0.246477  ...  0.027680  17.393009  31.710938   4.947235  12.351562   \n",
       "8   0.083333  ... -0.000000   6.153000  15.984375   3.092407   8.023438   \n",
       "9   0.470117  ...  0.657519  41.651703  48.765762  10.095613  33.656250   \n",
       "10  0.333277  ... -0.000000   6.135880  16.058594   3.114037   8.984375   \n",
       "11  0.240805  ... -5.303170   9.387726  22.216797   3.793671  10.679688   \n",
       "12  0.083333  ... -0.000000   5.227749  12.060547   3.155373   9.476562   \n",
       "\n",
       "    xcpeak  ycpeak  xpeak  ypeak  flag  \n",
       "0      558      17    558     17     0  \n",
       "1     3061     154   3061    154     0  \n",
       "2     1478     392   1478    392     0  \n",
       "3     3543     464   3543    464     0  \n",
       "4     1340     524   1340    523     8  \n",
       "5      461     548    461    548     0  \n",
       "6     1400     574   1400    574     8  \n",
       "7     1967     573   1967    573     0  \n",
       "8     1599     662   1599    663     8  \n",
       "9     2400     907   2400    907     0  \n",
       "10    2626    1020   2626   1020     8  \n",
       "11    1316    1047   1316   1047     0  \n",
       "12    2924    1305   2924   1305     8  \n",
       "\n",
       "[13 rows x 30 columns]"
      ]
     },
     "execution_count": 207,
     "metadata": {},
     "output_type": "execute_result"
    }
   ],
   "source": [
    "pd.DataFrame(sources)"
   ]
  },
  {
   "cell_type": "code",
   "execution_count": null,
   "metadata": {},
   "outputs": [],
   "source": []
  }
 ],
 "metadata": {
  "kernelspec": {
   "display_name": "kev",
   "language": "python",
   "name": "python3"
  },
  "language_info": {
   "codemirror_mode": {
    "name": "ipython",
    "version": 3
   },
   "file_extension": ".py",
   "mimetype": "text/x-python",
   "name": "python",
   "nbconvert_exporter": "python",
   "pygments_lexer": "ipython3",
   "version": "3.11.2"
  },
  "orig_nbformat": 4
 },
 "nbformat": 4,
 "nbformat_minor": 2
}
