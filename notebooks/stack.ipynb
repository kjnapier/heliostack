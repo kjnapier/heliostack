{
 "cells": [
  {
   "cell_type": "code",
   "execution_count": 183,
   "metadata": {},
   "outputs": [],
   "source": [
    "import pathlib\n",
    "\n",
    "from heliostack.image import Image\n",
    "\n",
    "import torch\n",
    "import kornia\n",
    "\n",
    "from astropy.io import fits\n",
    "from astropy.wcs import WCS\n",
    "from astropy.time import Time\n",
    "\n",
    "import warnings\n",
    "warnings.filterwarnings('ignore')\n",
    "\n",
    "import matplotlib.pyplot as plt\n",
    "%matplotlib inline\n",
    "%config InlineBackend.figure_format = 'retina'\n",
    "\n",
    "from scipy.ndimage import distance_transform_edt, center_of_mass, label, map_coordinates, convolve\n",
    "import numpy as np\n",
    "\n",
    "device = torch.device('cuda' if torch.cuda.is_available() else 'cpu')\n",
    "\n",
    "def stack(images: list[Image]):\n",
    "    phi = torch.zeros(2500, 5000, device=device, dtype=torch.half)\n",
    "    psi = torch.zeros(2500, 5000, device=device, dtype=torch.half)\n",
    "    # counter = torch.zeros(2500, 5000, device=device, dtype=torch.uint8)\n",
    "\n",
    "    for im in images:\n",
    "        dx, dy = im.image.shape\n",
    "        phi[0:dx, 0:dy] += im.image\n",
    "        psi[0:dx, 0:dy] += im.weight\n",
    "        # counter[0:dx, 0:dy] += 1\n",
    "    s = phi / psi\n",
    "    return s"
   ]
  },
  {
   "attachments": {},
   "cell_type": "markdown",
   "metadata": {},
   "source": [
    "### Read in all of the images"
   ]
  },
  {
   "cell_type": "code",
   "execution_count": 132,
   "metadata": {},
   "outputs": [],
   "source": [
    "EDGE_CUT_PIXELS = 250\n",
    "def ingest_image(image_path, weight_path, device) -> Image:\n",
    "    im = fits.open(image_path)\n",
    "    wt = fits.open(weight_path)\n",
    "\n",
    "    wcs = WCS(im[1].header)\n",
    "    epoch = Time(im[1].header['MJD-OBS'], format='mjd', scale='utc')\n",
    "\n",
    "    image = Image(im[1].data[EDGE_CUT_PIXELS:-EDGE_CUT_PIXELS, EDGE_CUT_PIXELS:-EDGE_CUT_PIXELS], \n",
    "                  wt[1].data[EDGE_CUT_PIXELS:-EDGE_CUT_PIXELS, EDGE_CUT_PIXELS:-EDGE_CUT_PIXELS], \n",
    "                  wcs, \n",
    "                  epoch, \n",
    "                  device=device)\n",
    "    return image"
   ]
  },
  {
   "cell_type": "code",
   "execution_count": 133,
   "metadata": {},
   "outputs": [],
   "source": [
    "root = '/nfs/deep/diffim_distant/B1d/20201019/CCD1'\n",
    "\n",
    "image_paths = list(pathlib.Path(root).glob('*.diff.rescale.fits.fz'))\n",
    "weight_paths = list(pathlib.Path(root).glob('*.diff.weight.fits.fz'))\n",
    "assert len(image_paths) == len(weight_paths)\n",
    "\n",
    "# read in the images\n",
    "images = []\n",
    "for i, w in zip(image_paths, weight_paths):\n",
    "    images.append(ingest_image(i, w, device))"
   ]
  },
  {
   "cell_type": "code",
   "execution_count": null,
   "metadata": {},
   "outputs": [],
   "source": [
    "def find_peaks(image, threshold, min_size=2, max_size=400):\n",
    "    \n",
    "    peak_labels, _ = label(peaks)\n",
    "    labels, counts = np.unique(peak_labels, return_counts=True)\n",
    "    l = labels[(counts >= min_size) * (counts <= max_size)]\n",
    "\n",
    "    if len(l) == 0:\n",
    "        return None, None, None\n",
    "\n",
    "    ys, xs = np.array(center_of_mass(image, peak_labels, l)).T\n",
    "    snr = image[ys.astype(int), xs.astype(int)]\n",
    "    return xs, ys, snr"
   ]
  },
  {
   "cell_type": "code",
   "execution_count": 190,
   "metadata": {},
   "outputs": [],
   "source": [
    "import sep"
   ]
  },
  {
   "attachments": {},
   "cell_type": "markdown",
   "metadata": {},
   "source": [
    "### Calculate the stack rates"
   ]
  },
  {
   "cell_type": "code",
   "execution_count": 224,
   "metadata": {},
   "outputs": [
    {
     "name": "stdout",
     "output_type": "stream",
     "text": [
      "CPU times: user 150 ms, sys: 8.94 ms, total: 159 ms\n",
      "Wall time: 158 ms\n"
     ]
    }
   ],
   "source": [
    "# use the grid"
   ]
  },
  {
   "attachments": {},
   "cell_type": "markdown",
   "metadata": {},
   "source": [
    "### Stack at each rate, and extract sources"
   ]
  },
  {
   "cell_type": "code",
   "execution_count": 228,
   "metadata": {},
   "outputs": [
    {
     "name": "stdout",
     "output_type": "stream",
     "text": [
      "CPU times: user 1.51 s, sys: 10 µs, total: 1.51 s\n",
      "Wall time: 1.51 s\n"
     ]
    }
   ],
   "source": [
    "%%time\n",
    "for _ in range(10):\n",
    "    s = stack(images)\n",
    "    sources = sep.extract(np.float32(s.cpu().numpy()), 2, minarea=2)"
   ]
  },
  {
   "cell_type": "code",
   "execution_count": null,
   "metadata": {},
   "outputs": [],
   "source": []
  }
 ],
 "metadata": {
  "kernelspec": {
   "display_name": "kev",
   "language": "python",
   "name": "python3"
  },
  "language_info": {
   "codemirror_mode": {
    "name": "ipython",
    "version": 3
   },
   "file_extension": ".py",
   "mimetype": "text/x-python",
   "name": "python",
   "nbconvert_exporter": "python",
   "pygments_lexer": "ipython3",
   "version": "3.11.2"
  },
  "orig_nbformat": 4
 },
 "nbformat": 4,
 "nbformat_minor": 2
}
