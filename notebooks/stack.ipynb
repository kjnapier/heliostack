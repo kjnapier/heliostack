{
 "cells": [
  {
   "cell_type": "code",
   "execution_count": 4,
   "metadata": {},
   "outputs": [],
   "source": [
    "import pathlib\n",
    "\n",
    "from heliostack import Image, ImageSequence\n",
    "from heliostack.grid import compute_hull, compute_stack_rates\n",
    "\n",
    "import torch\n",
    "import numpy as np\n",
    "from sklearn.cluster import DBSCAN\n",
    "\n",
    "from astropy.io import fits\n",
    "from astropy.wcs import WCS\n",
    "from astropy.time import Time\n",
    "from astropy.coordinates import Angle\n",
    "from astropy import units as u\n",
    "\n",
    "import warnings\n",
    "warnings.filterwarnings('ignore')\n",
    "\n",
    "import matplotlib.pyplot as plt\n",
    "%matplotlib inline\n",
    "%config InlineBackend.figure_format = 'retina'\n",
    "\n",
    "device = torch.device('cuda' if torch.cuda.is_available() else 'cpu')\n",
    "dtype = torch.float32\n",
    "\n",
    "def median_reference_index(epochs):\n",
    "    return np.where(epochs == np.percentile(epochs, 50, interpolation='nearest'))[0][0]\n"
   ]
  },
  {
   "attachments": {},
   "cell_type": "markdown",
   "metadata": {},
   "source": [
    "### Read in all of the images"
   ]
  },
  {
   "cell_type": "code",
   "execution_count": 5,
   "metadata": {},
   "outputs": [],
   "source": [
    "def ingest_image(image_path, weight_path, device, dtype) -> Image:\n",
    "    im = fits.open(image_path)\n",
    "    wt = fits.open(weight_path)\n",
    "\n",
    "    wcs = WCS(im[1].header)\n",
    "    epoch = Time(im[1].header['MJD-OBS'], format='mjd', scale='utc')\n",
    "\n",
    "    image = Image(im[1].data, \n",
    "                  wt[1].data, \n",
    "                  wcs, \n",
    "                  epoch, \n",
    "                  device=device,\n",
    "                  dtype=dtype)\n",
    "    return image"
   ]
  },
  {
   "cell_type": "code",
   "execution_count": 6,
   "metadata": {},
   "outputs": [],
   "source": [
    "#root = '/nfs/deep/diffim_distant/B1d/20201019/CCD1'\n",
    "root = '/Users/kjnapier/Desktop/research/data/jts/B1a/20201018/CCD5/'\n",
    "\n",
    "image_paths = list(pathlib.Path(root).glob('*.diff.rescale.fits.fz'))[:]\n",
    "weight_paths = list(pathlib.Path(root).glob('*.diff.weight.fits.fz'))[:]\n",
    "assert len(image_paths) == len(weight_paths)\n",
    "\n",
    "# read in the images\n",
    "images = []\n",
    "for i, w in zip(image_paths, weight_paths):\n",
    "    images.append(ingest_image(i, w, device, dtype))\n",
    "sequence = ImageSequence(images)"
   ]
  },
  {
   "cell_type": "code",
   "execution_count": 7,
   "metadata": {},
   "outputs": [],
   "source": [
    "reference_index = median_reference_index(sequence.epochs.numpy())\n",
    "ra = Angle(sequence.images[reference_index].ra, u.rad)\n",
    "dec = Angle(sequence.images[reference_index].dec, u.rad)\n",
    "epoch = Time(sequence.epochs.numpy()[reference_index], format='jd', scale='utc')\n",
    "duration = (sequence.epochs.max() - sequence.epochs.min()) * u.day"
   ]
  },
  {
   "attachments": {},
   "cell_type": "markdown",
   "metadata": {},
   "source": [
    "### Calculate the stack rates"
   ]
  },
  {
   "cell_type": "code",
   "execution_count": 13,
   "metadata": {},
   "outputs": [],
   "source": [
    "hull = compute_hull(ra, dec, epoch, rmin=30, rmax=100, imin=0, imax=90)\n",
    "ra_rates, dec_rates = compute_stack_rates(hull, 1, duration)"
   ]
  },
  {
   "attachments": {},
   "cell_type": "markdown",
   "metadata": {},
   "source": [
    "### Stack at each rate, and extract sources"
   ]
  },
  {
   "cell_type": "code",
   "execution_count": 17,
   "metadata": {},
   "outputs": [],
   "source": [
    "import sep\n",
    "import pandas as pd"
   ]
  },
  {
   "cell_type": "code",
   "execution_count": 18,
   "metadata": {},
   "outputs": [],
   "source": [
    "dfs = []\n",
    "for ra_rate, dec_rate in zip(ra_rates, dec_rates):\n",
    "    s, wcs = sequence.stack(ra_rate, dec_rate, reference_epoch=reference_index, EDGE_CUT_PIXELS=250, pixel_scale=0.27)\n",
    "    sources = sep.extract(np.float32(s.cpu().numpy()), 2)\n",
    "    dfs.append(pd.DataFrame(sources))"
   ]
  },
  {
   "cell_type": "code",
   "execution_count": 49,
   "metadata": {},
   "outputs": [
    {
     "ename": "NameError",
     "evalue": "name 'xs' is not defined",
     "output_type": "error",
     "traceback": [
      "\u001b[0;31m---------------------------------------------------------------------------\u001b[0m",
      "\u001b[0;31mNameError\u001b[0m                                 Traceback (most recent call last)",
      "Cell \u001b[0;32mIn[49], line 2\u001b[0m\n\u001b[1;32m      1\u001b[0m N \u001b[39m=\u001b[39m \u001b[39m3\u001b[39m\n\u001b[0;32m----> 2\u001b[0m M \u001b[39m=\u001b[39m \u001b[39mint\u001b[39m(np\u001b[39m.\u001b[39mceil(\u001b[39mlen\u001b[39m(xs) \u001b[39m/\u001b[39m N))\n\u001b[1;32m      3\u001b[0m fig, ax \u001b[39m=\u001b[39m plt\u001b[39m.\u001b[39msubplots(M, N, figsize\u001b[39m=\u001b[39m(\u001b[39m10\u001b[39m, M \u001b[39m*\u001b[39m \u001b[39m1\u001b[39m))\n\u001b[1;32m      4\u001b[0m \u001b[39mfor\u001b[39;00m idx, (x, y) \u001b[39min\u001b[39;00m \u001b[39menumerate\u001b[39m(\u001b[39mzip\u001b[39m(xs, ys)):\n",
      "\u001b[0;31mNameError\u001b[0m: name 'xs' is not defined"
     ]
    }
   ],
   "source": [
    "N = 3\n",
    "M = int(np.ceil(len(xs) / N))\n",
    "fig, ax = plt.subplots(M, N, figsize=(10, M * 1))\n",
    "for idx, (x, y) in enumerate(zip(xs, ys)):\n",
    "    \n",
    "    x = int(x)\n",
    "    y = int(y)\n",
    "        \n",
    "    #ax.imshow(s[y-25:y+26, x-25:x+26].cpu().numpy(), origin='lower')\n",
    "    ax[idx // N, idx % N].imshow(s[y-25:y+26, x-25:x+26].cpu().numpy(), origin='lower')\n",
    "\n",
    "for i in range(M):\n",
    "    for j in range(N):\n",
    "        ax[i, j].axis('off')"
   ]
  }
 ],
 "metadata": {
  "kernelspec": {
   "display_name": "kev",
   "language": "python",
   "name": "python3"
  },
  "language_info": {
   "codemirror_mode": {
    "name": "ipython",
    "version": 3
   },
   "file_extension": ".py",
   "mimetype": "text/x-python",
   "name": "python",
   "nbconvert_exporter": "python",
   "pygments_lexer": "ipython3",
   "version": "3.11.2"
  },
  "orig_nbformat": 4
 },
 "nbformat": 4,
 "nbformat_minor": 2
}
