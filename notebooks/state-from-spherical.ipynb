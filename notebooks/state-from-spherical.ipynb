{
 "cells": [
  {
   "cell_type": "code",
   "execution_count": 44,
   "metadata": {},
   "outputs": [],
   "source": [
    "import matplotlib.pyplot as plt\n",
    "%matplotlib inline\n",
    "%config InlineBackend.figure_format = 'retina'\n",
    "\n",
    "from spacerocks.vector import Vector\n",
    "from spacerocks.spacerock import SpaceRock\n",
    "from spacerocks.utils import time_handler\n",
    "\n",
    "import numpy as np\n",
    "from astropy import units as u\n",
    "from scipy.optimize import minimize"
   ]
  },
  {
   "attachments": {},
   "cell_type": "markdown",
   "metadata": {},
   "source": [
    "# Generate a state vector from spherical coordinates"
   ]
  },
  {
   "cell_type": "code",
   "execution_count": 137,
   "metadata": {},
   "outputs": [],
   "source": [
    "def pointing_vector(theta, phi):\n",
    "    return Vector(np.cos(theta) * np.cos(phi), np.cos(theta) * np.sin(phi), np.sin(theta))\n",
    "\n",
    "def pointing_vector_rate(theta, phi, theta_rate, phi_rate):\n",
    "    return Vector(-np.cos(theta) * np.sin(phi) * phi_rate - np.sin(theta) * np.cos(phi) * theta_rate, \n",
    "                   np.cos(theta) * np.cos(phi) * phi_rate - np.sin(theta) * np.sin(phi) * theta_rate, \n",
    "                   np.cos(theta) * theta_rate)"
   ]
  },
  {
   "cell_type": "code",
   "execution_count": 168,
   "metadata": {},
   "outputs": [],
   "source": [
    "def rock_from_spherical(r, theta, phi, r_dot, theta_dot, phi_dot, epoch):\n",
    "    position = r * pointing_vector(theta, phi)\n",
    "    velocity = r * pointing_vector_rate(theta, phi, theta_dot, phi_dot) + r_dot * pointing_vector(theta, phi)\n",
    "\n",
    "    x, y, z = position.x, position.y, position.z\n",
    "    vx, vy, vz = velocity.x, velocity.y, velocity.z\n",
    "\n",
    "    rock = SpaceRock(x=x, y=y, z=z, vx=vx, vy=vy, vz=vz, epoch=epoch, frame='J2000', origin='ssb')\n",
    "    return rock"
   ]
  },
  {
   "cell_type": "code",
   "execution_count": 169,
   "metadata": {},
   "outputs": [],
   "source": [
    "arrokoth = SpaceRock.from_horizons('Arrokoth')\n",
    "arrokoth.change_frame('J2000')\n",
    "obs = arrokoth.observe(spiceid='ssb')\n",
    "\n",
    "theta = obs.dec.rad[0]\n",
    "phi = obs.ra.rad[0]\n",
    "theta_dot = obs.dec_rate.to(u.rad/u.day).value[0]\n",
    "phi_dot = obs.ra_rate.to(u.rad/u.day).value[0]\n",
    "\n",
    "pos = Vector(obs.x.au, obs.y.au, obs.z.au)\n",
    "vel = Vector(obs.vx, obs.vy, obs.vz)\n",
    "\n",
    "r = pos.norm[0]\n",
    "r_dot = pos.dot(vel).value[0] / r\n",
    "\n",
    "epoch = obs.epoch.utc.jd"
   ]
  },
  {
   "cell_type": "code",
   "execution_count": 375,
   "metadata": {},
   "outputs": [
    {
     "data": {
      "text/plain": [
       "(43.061044336128425,\n",
       " -0.00010276196420543171,\n",
       " 7.978156515351171e-06,\n",
       " 6.507812513132712e-05)"
      ]
     },
     "execution_count": 375,
     "metadata": {},
     "output_type": "execute_result"
    }
   ],
   "source": [
    "r, r_dot, theta_dot, phi_dot"
   ]
  },
  {
   "cell_type": "code",
   "execution_count": 317,
   "metadata": {},
   "outputs": [],
   "source": [
    "def residual(psi, params):\n",
    "\n",
    "    # where must the rock be at the reference epoch to be at the correct sky location at the observation epoch?\n",
    "\n",
    "    theta, phi = psi\n",
    "    r, r_dot, theta_dot, phi_dot, reference_epoch, image_epoch, image_ra, image_dec = params\n",
    "\n",
    "    position = r * pointing_vector(theta, phi)\n",
    "    velocity = r * pointing_vector_rate(theta, phi, theta_dot, phi_dot) + r_dot * pointing_vector(theta, phi)\n",
    "\n",
    "    x, y, z = position.x, position.y, position.z\n",
    "    vx, vy, vz = velocity.x, velocity.y, velocity.z\n",
    "\n",
    "    rock = SpaceRock(x=x, y=y, z=z, vx=vx, vy=vy, vz=vz, epoch=reference_epoch, frame='J2000', origin='ssb')\n",
    "    prop = rock.analytic_propagate(epoch=image_epoch)\n",
    "\n",
    "    obs = prop.observe(spiceid='ssb')\n",
    "\n",
    "    return np.sqrt((obs.ra.rad - image_ra)**2 + (obs.dec.rad - image_dec)**2) * u.rad.to(u.arcsec)"
   ]
  },
  {
   "cell_type": "code",
   "execution_count": null,
   "metadata": {},
   "outputs": [],
   "source": []
  },
  {
   "cell_type": "code",
   "execution_count": 335,
   "metadata": {},
   "outputs": [],
   "source": [
    "reference_epoch = time_handler('20 April 2023').utc.jd\n",
    "\n",
    "image_epoch = epoch\n",
    "image_ra = phi\n",
    "image_dec = theta"
   ]
  },
  {
   "cell_type": "code",
   "execution_count": 373,
   "metadata": {},
   "outputs": [],
   "source": [
    "params = [r, r_dot, theta_dot, phi_dot, reference_epoch, image_epoch, image_ra, image_dec]\n",
    "res = minimize(residual, [0, np.pi], args=(params,), method='Powell', bounds=[(-np.pi/2, np.pi/2), (0, 2*np.pi)], tol=0.00000001)"
   ]
  },
  {
   "cell_type": "code",
   "execution_count": 374,
   "metadata": {},
   "outputs": [
    {
     "data": {
      "text/plain": [
       " message: Optimization terminated successfully.\n",
       " success: True\n",
       "  status: 0\n",
       "     fun: 0.0004165739771010905\n",
       "       x: [-3.475e-01  5.116e+00]\n",
       "     nit: 3\n",
       "   direc: [[ 1.000e+00  0.000e+00]\n",
       "           [ 0.000e+00  1.000e+00]]\n",
       "    nfev: 161"
      ]
     },
     "execution_count": 374,
     "metadata": {},
     "output_type": "execute_result"
    }
   ],
   "source": [
    "res"
   ]
  },
  {
   "cell_type": "code",
   "execution_count": null,
   "metadata": {},
   "outputs": [],
   "source": []
  }
 ],
 "metadata": {
  "kernelspec": {
   "display_name": "kev",
   "language": "python",
   "name": "python3"
  },
  "language_info": {
   "codemirror_mode": {
    "name": "ipython",
    "version": 3
   },
   "file_extension": ".py",
   "mimetype": "text/x-python",
   "name": "python",
   "nbconvert_exporter": "python",
   "pygments_lexer": "ipython3",
   "version": "3.11.2"
  },
  "orig_nbformat": 4
 },
 "nbformat": 4,
 "nbformat_minor": 2
}
